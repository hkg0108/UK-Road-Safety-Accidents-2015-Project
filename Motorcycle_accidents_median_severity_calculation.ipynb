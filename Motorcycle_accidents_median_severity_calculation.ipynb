{
 "cells": [
  {
   "cell_type": "code",
   "execution_count": 1,
   "id": "0112af10",
   "metadata": {},
   "outputs": [
    {
     "name": "stdout",
     "output_type": "stream",
     "text": [
      "Requirement already satisfied: pymysql in c:\\users\\harsh\\anaconda3\\lib\\site-packages (1.1.1)\n"
     ]
    }
   ],
   "source": [
    "!pip install pymysql"
   ]
  },
  {
   "cell_type": "code",
   "execution_count": 2,
   "id": "8569f6e2",
   "metadata": {},
   "outputs": [],
   "source": [
    "import pymysql"
   ]
  },
  {
   "cell_type": "code",
   "execution_count": 3,
   "id": "978f416f",
   "metadata": {},
   "outputs": [],
   "source": [
    "connection = pymysql.connect(\n",
    "    host = 'localhost',\n",
    "    user = 'root',\n",
    "    password = 'admin',\n",
    "    database = 'accidents')"
   ]
  },
  {
   "cell_type": "code",
   "execution_count": 4,
   "id": "08c470c9",
   "metadata": {},
   "outputs": [],
   "source": [
    "cursor = connection.cursor()"
   ]
  },
  {
   "cell_type": "code",
   "execution_count": 5,
   "id": "edfa03d6",
   "metadata": {},
   "outputs": [
    {
     "data": {
      "text/plain": [
       "6"
      ]
     },
     "execution_count": 5,
     "metadata": {},
     "output_type": "execute_result"
    }
   ],
   "source": [
    "cursor.execute(\"select vehicle_type from vehicle_types where vehicle_type like '%torcycle%';\")"
   ]
  },
  {
   "cell_type": "code",
   "execution_count": 6,
   "id": "112db95d",
   "metadata": {},
   "outputs": [
    {
     "name": "stdout",
     "output_type": "stream",
     "text": [
      "(('Motorcycle 50cc and under\\r',), ('Motorcycle 125cc and under\\r',), ('Motorcycle over 125cc and up to 500cc\\r',), ('Motorcycle over 500cc\\r',), ('Electric motorcycle\\r',), ('Motorcycle - unknown cc\\r',))\n"
     ]
    }
   ],
   "source": [
    "cycle_list = cursor.fetchall()\n",
    "print(cycle_list)"
   ]
  },
  {
   "cell_type": "code",
   "execution_count": 7,
   "id": "ca6793fa",
   "metadata": {},
   "outputs": [],
   "source": [
    "selectSQL = ('''select vt.vehicle_type, a.accident_severity\n",
    "             from accident a \n",
    "             join vehicles v on a.accident_index = v.accident_index \n",
    "             join vehicle_types vt on v.vehicle_type = vt.vehicle_code\n",
    "             where vt.vehicle_type like %s\n",
    "             order by a.accident_severity;\n",
    "             ''')\n"
   ]
  },
  {
   "cell_type": "code",
   "execution_count": 8,
   "id": "fe33726d",
   "metadata": {},
   "outputs": [],
   "source": [
    "insert_SQL = ('''insert into accidents_median\n",
    "                values(%s,%s);''')"
   ]
  },
  {
   "cell_type": "code",
   "execution_count": 9,
   "id": "1b3e57fc",
   "metadata": {},
   "outputs": [
    {
     "name": "stdout",
     "output_type": "stream",
     "text": [
      "Finding Median Severity for  Motorcycle 50cc and under\n",
      "Finding Median Severity for  Motorcycle 125cc and under\n",
      "Finding Median Severity for  Motorcycle over 125cc and up to 500cc\n",
      "Finding Median Severity for  Motorcycle over 500cc\n",
      "Finding Median Severity for  Electric motorcycle\n",
      "Finding Median Severity for  Motorcycle - unknown cc\n"
     ]
    }
   ],
   "source": [
    "for cycle in cycle_list:\n",
    "    cursor.execute(selectSQL, cycle[0])\n",
    "    accidents = cursor.fetchall()\n",
    "    \n",
    "    quotient, remainder = divmod(len(accidents),2)\n",
    "    \n",
    "    if remainder:\n",
    "        median_severity = accidents[quotient][1]\n",
    "    else:\n",
    "        median_severity = (accidents[quotient][1] + accidents[quotient+1][1])/2\n",
    "    \n",
    "    print(\"Finding Median Severity for \",cycle[0])\n",
    "    \n",
    "    cursor.execute(insert_SQL, (cycle[0],median_severity))"
   ]
  },
  {
   "cell_type": "code",
   "execution_count": 10,
   "id": "f9d6320d",
   "metadata": {},
   "outputs": [],
   "source": [
    "connection.commit()\n",
    "connection.close()"
   ]
  }
 ],
 "metadata": {
  "kernelspec": {
   "display_name": "Python 3 (ipykernel)",
   "language": "python",
   "name": "python3"
  },
  "language_info": {
   "codemirror_mode": {
    "name": "ipython",
    "version": 3
   },
   "file_extension": ".py",
   "mimetype": "text/x-python",
   "name": "python",
   "nbconvert_exporter": "python",
   "pygments_lexer": "ipython3",
   "version": "3.9.13"
  }
 },
 "nbformat": 4,
 "nbformat_minor": 5
}
